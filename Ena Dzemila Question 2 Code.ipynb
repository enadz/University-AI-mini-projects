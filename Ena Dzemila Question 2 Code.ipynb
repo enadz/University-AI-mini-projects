{
 "cells": [
  {
   "cell_type": "code",
   "execution_count": 20,
   "metadata": {},
   "outputs": [],
   "source": [
    "import numpy as np\n",
    "import random as rm\n",
    "from numpy.linalg import matrix_power\n",
    "\n",
    "states = [\"Work\",\"Bed\",\"Gym\"]\n",
    "transitionName = [[\"WW\",\"WB\",\"WG\"],[\"BW\",\"BB\",\"BG\"],[\"GW\",\"GB\",\"GG\"]]\n",
    "transitionMatrix = np.array([[0.5,0.4,0.1],[0.3,0.2,0.5],[0.7,0.1,0.2]])\n",
    "State0Matrix=np.array([1,0,0])"
   ]
  },
  {
   "cell_type": "code",
   "execution_count": 27,
   "metadata": {},
   "outputs": [
    {
     "name": "stdout",
     "output_type": "stream",
     "text": [
      "Transition matrix to the third power:\n",
      "[[0.496 0.261 0.243]\n",
      " [0.504 0.289 0.207]\n",
      " [0.468 0.288 0.244]]\n",
      "\n",
      "[0.496 0.261 0.243]\n",
      "\n",
      "On day 3, the probability of the state being bed is :\n",
      "26.100000000000005 %\n"
     ]
    }
   ],
   "source": [
    "print(\"Transition matrix to the third power:\") \n",
    "print(matrix_power(transitionMatrix, 3))\n",
    "print(\"\")\n",
    "State3Matrix=(State0Matrix).dot(matrix_power(transitionMatrix, 3))\n",
    "print(State3Matrix)\n",
    "\n",
    "print(\"\")\n",
    "print(\"On day 3, the probability of the state being bed is :\")\n",
    "print((State3Matrix[1]*100), \"%\")"
   ]
  },
  {
   "cell_type": "code",
   "execution_count": null,
   "metadata": {},
   "outputs": [],
   "source": []
  },
  {
   "cell_type": "code",
   "execution_count": null,
   "metadata": {},
   "outputs": [],
   "source": []
  }
 ],
 "metadata": {
  "kernelspec": {
   "display_name": "Python 3",
   "language": "python",
   "name": "python3"
  },
  "language_info": {
   "codemirror_mode": {
    "name": "ipython",
    "version": 3
   },
   "file_extension": ".py",
   "mimetype": "text/x-python",
   "name": "python",
   "nbconvert_exporter": "python",
   "pygments_lexer": "ipython3",
   "version": "3.7.4"
  }
 },
 "nbformat": 4,
 "nbformat_minor": 2
}
